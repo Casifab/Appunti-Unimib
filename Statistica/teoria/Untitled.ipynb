{
 "cells": [
  {
   "cell_type": "markdown",
   "metadata": {},
   "source": [
    "# Regressione Lineare\n",
    "\n",
    "Ci si chiede se tra m+1 vari caratteri di una popolazione puo' esistere legame di dipendenza funzionale cioe' se esiste una relazione del tipo \n",
    "\n",
    "$$Y = f(X_1, \\ldots, X_m)$$\n",
    "\n",
    "Tale espressione viene detta equazione di regressione lineare del carattere Y rispetto agli altri m caratteri.\n",
    "\n",
    "E' detta variabile di risposta la $Y$ mentre sono dette variabili esplicative le $X_1, \\ldots X_m$.\n"
   ]
  },
  {
   "cell_type": "markdown",
   "metadata": {},
   "source": [
    "Con analisi di regressione si intende invece la verifica dell'ammissibilita' di un relazione $Y = f(X_1, \\ldots, X_m)$\n",
    "\n",
    "In questo capitolo ci limitiamo ad osservare solo equazioni di regressione nella quale si suppone la $f$ funzione lineare nella variabili $X_m$ e con un addendo aleatorie $E$.\n",
    "\n",
    "$$Y = a_0 + a_1 \\cdot X_1 + \\ldots + a_m \\cdot X_m + E$$\n",
    "\n",
    "con $E \\sim N(0, \\sigma^2)$.\n",
    "\n",
    "Se compare una sola variabile stiamo trattando la regressione lineare semplice, altrimenti quella multipla. \n",
    "\n",
    "E e' detto residuo o errore. \n",
    "\n",
    "Sia il residuo sia i valori delle varie $X_m$ cambiano per ogni individuo della popolazione quindi e' meglio definire \n",
    "\n",
    "$$Y_i = a_0 + a_1 \\cdot X_{1,i} + \\ldots + a_m \\cdot X_{m,i} + E_i$$\n",
    "\n",
    "\n"
   ]
  },
  {
   "cell_type": "markdown",
   "metadata": {},
   "source": [
    "## Stima delle costanti del modello\n",
    "\n",
    "Consideriamo una popolazione bidimensionale ed assumiamo che tra i due caratteri esista un legame di dipendenza esprimibile tramite un'equazione di regressione lineare. \n",
    "Per ogni individuo si ha quindi:\n",
    "\n",
    "$$\\alpha_0 + \\alpha_1 \\cdot X_1 + E_i$$\n",
    "\n",
    "In primo luogo ci interessa determinare il valore delle costanti $\\alpha_0$ e $\\alpha_1$.\n",
    "\n",
    "Ovviamente possiamo solo fare stime riguardo a queste costanti. E' impossibile trovare il valore esatto visto che abbiamo a disposizione solo $N$ individui.\n",
    "\n",
    "Per determinare le stime $a_0$ e $a_1$ dobbiamo fare tre ipotesi. \n",
    "\n",
    "* $E[E_1] = 0$\n",
    "* $V[E_1] = \\sigma^2$, ipotesi di omoschedasticita'\n",
    "* Le variabili E_i sono incorrelate tra loro\n",
    "\n",
    "Pur supponendo la validita' delle ipotesi non conosciamo il valore della varianza (che epr ora teniamo come costante nota).\n",
    "\n",
    "Utilizziamo gli stimatori puntuali \n",
    "\n",
    "$$A_0 = \\bar Y - A+1 \\cdot \\bar X$$\n",
    "\n",
    "$$A_1 = \\frac{\\sum (X_i - \\bar X) \\cdot (Y_i - \\bar Y)}{\\sum (X_i - \\bar X)^2}$$\n",
    "\n",
    "\n",
    "> Tali stimatori sono i valori per cui risulta minima la quantita' $$\\sum [A_1 \\cdot X_i + A_0 \\cdot Y_i]^2$$ \n",
    "\n",
    "Quindi \n",
    "\n",
    "$$a_0 = \\bar y - a_1 \\cdot \\bar x$$\n",
    "\n",
    "\n",
    "$$a_1 = \\frac{\\sum (x_i - \\bar x) \\cdot (y_i - \\bar y)}{\\sum (x_i - \\bar x)^2}$$\n",
    "\n",
    "![](images/8-01.png)"
   ]
  },
  {
   "cell_type": "markdown",
   "metadata": {},
   "source": [
    "Da queste due formule notiamo che se la dispersione delle osservazioni e' piccola allora il denominatore e' molto piccolo e le varianze molto grandi. \n",
    "\n",
    "In questo caso quindi le probabilita' che le stime siano lontane dai valori reali cresce.\n",
    "\n"
   ]
  },
  {
   "cell_type": "code",
   "execution_count": null,
   "metadata": {
    "collapsed": true
   },
   "outputs": [],
   "source": []
  }
 ],
 "metadata": {
  "kernelspec": {
   "display_name": "Python 3",
   "language": "python",
   "name": "python3"
  },
  "language_info": {
   "codemirror_mode": {
    "name": "ipython",
    "version": 3
   },
   "file_extension": ".py",
   "mimetype": "text/x-python",
   "name": "python",
   "nbconvert_exporter": "python",
   "pygments_lexer": "ipython3",
   "version": "3.6.1"
  }
 },
 "nbformat": 4,
 "nbformat_minor": 2
}
